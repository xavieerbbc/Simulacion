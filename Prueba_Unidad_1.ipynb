{
  "nbformat": 4,
  "nbformat_minor": 0,
  "metadata": {
    "colab": {
      "name": "Prueba Unidad 1",
      "provenance": [],
      "collapsed_sections": []
    },
    "kernelspec": {
      "display_name": "Python 3",
      "name": "python3"
    },
    "language_info": {
      "name": "python"
    }
  },
  "cells": [
    {
      "cell_type": "markdown",
      "metadata": {
        "id": "rJfMML60zaoX"
      },
      "source": [
        "<div style=\"width: 50%; float: left\">\n",
        "    <strong><center>UNIVERSIDAD POLITECNICA SALESIANA</center></strong>\n",
        "    <br><center>\n",
        "    <strong>CARRERA: </strong> Computación\n",
        "    <br>\n",
        "    <strong>ASIGNATURA: </strong>Simulación\n",
        "    <br>\n",
        "    <strong>NRO. PRUEBA: </strong>1\n",
        "    <br>\n",
        "    <strong>ESTUDIANTE: </strong>Bryam Barrera\n",
        "    <br>\n",
        "</div>\n",
        "<div style=\"width: 50%; float: left\">\n",
        "  \n",
        "</div>\n",
        "<br>\n",
        "<br>\n",
        "<strong><center>ACTIVIDADES DESARROLLADAS</center></strong>\n"
      ]
    },
    {
      "cell_type": "markdown",
      "metadata": {
        "id": "nUOLIaV-Au1o"
      },
      "source": [
        "\n",
        "\n",
        "*   **Importamos las librerias necesarias**\n",
        "\n"
      ]
    },
    {
      "cell_type": "code",
      "metadata": {
        "id": "2J4GO53azxdU",
        "colab": {
          "base_uri": "https://localhost:8080/",
          "height": 17
        },
        "outputId": "e953221e-369b-43d6-996c-1aca3e7451e7"
      },
      "source": [
        "import matplotlib.pyplot as plt\n",
        "import numpy as np\n",
        "import pandas as pd\n",
        "import io\n",
        "import statistics       \n",
        "from google.colab import files\n",
        "import plotly.graph_objects as go\n",
        "import altair as alt\n",
        "import plotly.express as px\n",
        "import plotly\n",
        "plotly.offline.init_notebook_mode(connected=True)\n",
        "import seaborn as sns"
      ],
      "execution_count": 1,
      "outputs": [
        {
          "output_type": "display_data",
          "data": {
            "text/html": [
              "        <script type=\"text/javascript\">\n",
              "        window.PlotlyConfig = {MathJaxConfig: 'local'};\n",
              "        if (window.MathJax) {MathJax.Hub.Config({SVG: {font: \"STIX-Web\"}});}\n",
              "        if (typeof require !== 'undefined') {\n",
              "        require.undef(\"plotly\");\n",
              "        requirejs.config({\n",
              "            paths: {\n",
              "                'plotly': ['https://cdn.plot.ly/plotly-latest.min']\n",
              "            }\n",
              "        });\n",
              "        require(['plotly'], function(Plotly) {\n",
              "            window._Plotly = Plotly;\n",
              "        });\n",
              "        }\n",
              "        </script>\n",
              "        "
            ]
          },
          "metadata": {}
        }
      ]
    },
    {
      "cell_type": "markdown",
      "metadata": {
        "id": "AtS5jPv_3arf"
      },
      "source": [
        "\n",
        "\n",
        "### Generar gráficas para entender y procesar los datos:\n"
      ]
    },
    {
      "cell_type": "markdown",
      "metadata": {
        "id": "vg7Ih0F13qME"
      },
      "source": [
        "*   **Graficas y reportes del total de personas empleadas y desempleadas por año.**\n",
        "\n",
        "\n"
      ]
    },
    {
      "cell_type": "code",
      "metadata": {
        "colab": {
          "base_uri": "https://localhost:8080/"
        },
        "id": "2tRp3j2pz6zN",
        "outputId": "a9d1c3ba-fbca-476f-8a5e-307b9944fac5"
      },
      "source": [
        "poblaciones = pd.read_csv(\"/content/1.Poblaciones.csv\",skiprows=2, low_memory=False,encoding= 'latin1')\n",
        "#imprimir los primeros 5 datos del archivo\n",
        "\n",
        "print(poblaciones)"
      ],
      "execution_count": 2,
      "outputs": [
        {
          "output_type": "stream",
          "name": "stdout",
          "text": [
            "    Encuesta     Periodo  ...   Hombre    Mujer\n",
            "0     ENEMDU  12/01/2007  ...  6768646  6913656\n",
            "1     ENEMDU  12/01/2007  ...  2226618  2146194\n",
            "2     ENEMDU  12/01/2007  ...  4542028  4767462\n",
            "3     ENEMDU  12/01/2007  ...  3777232  2558798\n",
            "4     ENEMDU  12/01/2007  ...  3632314  2387018\n",
            "..       ...         ...  ...      ...      ...\n",
            "895  ENEMDU*  10/01/2021  ...   150276   185824\n",
            "896  ENEMDU*  10/01/2021  ...    25975    22128\n",
            "897  ENEMDU*  10/01/2021  ...   140223   158623\n",
            "898  ENEMDU*  10/01/2021  ...    36028    49330\n",
            "899  ENEMDU*  10/01/2021  ...  1324745  3005495\n",
            "\n",
            "[900 rows x 8 columns]\n"
          ]
        }
      ]
    },
    {
      "cell_type": "markdown",
      "metadata": {
        "id": "QmmbVrFMC773"
      },
      "source": [
        "*   **Filtración de datos:** Filtramos el total de la población empleo y desempleo que existe en el conjunto de datos.\n",
        "\n",
        "\n",
        "\n"
      ]
    },
    {
      "cell_type": "code",
      "metadata": {
        "id": "pmNLNUWnRNgD"
      },
      "source": [
        "empleo=poblaciones.loc[ (poblaciones['Unnamed: 2']) == 'Empleo']\n",
        "desempleo=poblaciones.loc[ (poblaciones['Unnamed: 2']) == 'Desempleo']"
      ],
      "execution_count": 3,
      "outputs": []
    },
    {
      "cell_type": "markdown",
      "metadata": {
        "id": "0P6TZButD3h7"
      },
      "source": [
        "*   **Para manejar de mejor manera el dataframe extraemos el año y lo adicionamos en una nueva columna**\n",
        "\n",
        "\n",
        "\n",
        "\n"
      ]
    },
    {
      "cell_type": "code",
      "metadata": {
        "id": "D3s6B3F5ioip",
        "colab": {
          "base_uri": "https://localhost:8080/"
        },
        "outputId": "f0e9dd65-7b86-482d-81d3-f2fe03aaeacc"
      },
      "source": [
        "def sacAnio(anio):\n",
        "  return str(anio).split(\"/\")[2]\n",
        "\n",
        "empleo[\"Anios\"]=empleo.apply(lambda x: sacAnio(x[1]), axis=1)\n",
        "desempleo[\"Anios\"]=desempleo.apply(lambda x: sacAnio(x[1]), axis=1)"
      ],
      "execution_count": 4,
      "outputs": [
        {
          "output_type": "stream",
          "name": "stderr",
          "text": [
            "/usr/local/lib/python3.7/dist-packages/ipykernel_launcher.py:4: SettingWithCopyWarning:\n",
            "\n",
            "\n",
            "A value is trying to be set on a copy of a slice from a DataFrame.\n",
            "Try using .loc[row_indexer,col_indexer] = value instead\n",
            "\n",
            "See the caveats in the documentation: https://pandas.pydata.org/pandas-docs/stable/user_guide/indexing.html#returning-a-view-versus-a-copy\n",
            "\n",
            "/usr/local/lib/python3.7/dist-packages/ipykernel_launcher.py:5: SettingWithCopyWarning:\n",
            "\n",
            "\n",
            "A value is trying to be set on a copy of a slice from a DataFrame.\n",
            "Try using .loc[row_indexer,col_indexer] = value instead\n",
            "\n",
            "See the caveats in the documentation: https://pandas.pydata.org/pandas-docs/stable/user_guide/indexing.html#returning-a-view-versus-a-copy\n",
            "\n"
          ]
        }
      ]
    },
    {
      "cell_type": "code",
      "metadata": {
        "colab": {
          "base_uri": "https://localhost:8080/",
          "height": 206
        },
        "id": "QOU5FJDMAYUd",
        "outputId": "d63bb7b8-e7b8-4849-a019-36594ee0d985"
      },
      "source": [
        "empleo.head()"
      ],
      "execution_count": 5,
      "outputs": [
        {
          "output_type": "execute_result",
          "data": {
            "text/html": [
              "<div>\n",
              "<style scoped>\n",
              "    .dataframe tbody tr th:only-of-type {\n",
              "        vertical-align: middle;\n",
              "    }\n",
              "\n",
              "    .dataframe tbody tr th {\n",
              "        vertical-align: top;\n",
              "    }\n",
              "\n",
              "    .dataframe thead th {\n",
              "        text-align: right;\n",
              "    }\n",
              "</style>\n",
              "<table border=\"1\" class=\"dataframe\">\n",
              "  <thead>\n",
              "    <tr style=\"text-align: right;\">\n",
              "      <th></th>\n",
              "      <th>Encuesta</th>\n",
              "      <th>Periodo</th>\n",
              "      <th>Unnamed: 2</th>\n",
              "      <th>Total</th>\n",
              "      <th>Urbana</th>\n",
              "      <th>Rural</th>\n",
              "      <th>Hombre</th>\n",
              "      <th>Mujer</th>\n",
              "      <th>Anios</th>\n",
              "    </tr>\n",
              "  </thead>\n",
              "  <tbody>\n",
              "    <tr>\n",
              "      <th>4</th>\n",
              "      <td>ENEMDU</td>\n",
              "      <td>12/01/2007</td>\n",
              "      <td>Empleo</td>\n",
              "      <td>6019332</td>\n",
              "      <td>3971040</td>\n",
              "      <td>2048292</td>\n",
              "      <td>3632314</td>\n",
              "      <td>2387018</td>\n",
              "      <td>2007</td>\n",
              "    </tr>\n",
              "    <tr>\n",
              "      <th>22</th>\n",
              "      <td>ENEMDU</td>\n",
              "      <td>06/01/2008</td>\n",
              "      <td>Empleo</td>\n",
              "      <td>6245225</td>\n",
              "      <td>4151002</td>\n",
              "      <td>2094223</td>\n",
              "      <td>3742213</td>\n",
              "      <td>2503012</td>\n",
              "      <td>2008</td>\n",
              "    </tr>\n",
              "    <tr>\n",
              "      <th>40</th>\n",
              "      <td>ENEMDU</td>\n",
              "      <td>12/01/2008</td>\n",
              "      <td>Empleo</td>\n",
              "      <td>6005395</td>\n",
              "      <td>4012298</td>\n",
              "      <td>1993097</td>\n",
              "      <td>3635236</td>\n",
              "      <td>2370159</td>\n",
              "      <td>2008</td>\n",
              "    </tr>\n",
              "    <tr>\n",
              "      <th>58</th>\n",
              "      <td>ENEMDU</td>\n",
              "      <td>12/01/2009</td>\n",
              "      <td>Empleo</td>\n",
              "      <td>6125135</td>\n",
              "      <td>4050179</td>\n",
              "      <td>2074956</td>\n",
              "      <td>3699840</td>\n",
              "      <td>2425296</td>\n",
              "      <td>2009</td>\n",
              "    </tr>\n",
              "    <tr>\n",
              "      <th>76</th>\n",
              "      <td>ENEMDU</td>\n",
              "      <td>06/01/2010</td>\n",
              "      <td>Empleo</td>\n",
              "      <td>6174141</td>\n",
              "      <td>4075417</td>\n",
              "      <td>2098724</td>\n",
              "      <td>3716323</td>\n",
              "      <td>2457818</td>\n",
              "      <td>2010</td>\n",
              "    </tr>\n",
              "  </tbody>\n",
              "</table>\n",
              "</div>"
            ],
            "text/plain": [
              "   Encuesta     Periodo Unnamed: 2    Total  ...    Rural   Hombre    Mujer  Anios\n",
              "4    ENEMDU  12/01/2007     Empleo  6019332  ...  2048292  3632314  2387018   2007\n",
              "22   ENEMDU  06/01/2008     Empleo  6245225  ...  2094223  3742213  2503012   2008\n",
              "40   ENEMDU  12/01/2008     Empleo  6005395  ...  1993097  3635236  2370159   2008\n",
              "58   ENEMDU  12/01/2009     Empleo  6125135  ...  2074956  3699840  2425296   2009\n",
              "76   ENEMDU  06/01/2010     Empleo  6174141  ...  2098724  3716323  2457818   2010\n",
              "\n",
              "[5 rows x 9 columns]"
            ]
          },
          "metadata": {},
          "execution_count": 5
        }
      ]
    },
    {
      "cell_type": "code",
      "metadata": {
        "colab": {
          "base_uri": "https://localhost:8080/",
          "height": 206
        },
        "id": "G_9749yOAUGy",
        "outputId": "eaf9e871-2f9c-4bcb-e013-8d0990dc9979"
      },
      "source": [
        "desempleo.head()"
      ],
      "execution_count": 6,
      "outputs": [
        {
          "output_type": "execute_result",
          "data": {
            "text/html": [
              "<div>\n",
              "<style scoped>\n",
              "    .dataframe tbody tr th:only-of-type {\n",
              "        vertical-align: middle;\n",
              "    }\n",
              "\n",
              "    .dataframe tbody tr th {\n",
              "        vertical-align: top;\n",
              "    }\n",
              "\n",
              "    .dataframe thead th {\n",
              "        text-align: right;\n",
              "    }\n",
              "</style>\n",
              "<table border=\"1\" class=\"dataframe\">\n",
              "  <thead>\n",
              "    <tr style=\"text-align: right;\">\n",
              "      <th></th>\n",
              "      <th>Encuesta</th>\n",
              "      <th>Periodo</th>\n",
              "      <th>Unnamed: 2</th>\n",
              "      <th>Total</th>\n",
              "      <th>Urbana</th>\n",
              "      <th>Rural</th>\n",
              "      <th>Hombre</th>\n",
              "      <th>Mujer</th>\n",
              "      <th>Anios</th>\n",
              "    </tr>\n",
              "  </thead>\n",
              "  <tbody>\n",
              "    <tr>\n",
              "      <th>12</th>\n",
              "      <td>ENEMDU</td>\n",
              "      <td>12/01/2007</td>\n",
              "      <td>Desempleo</td>\n",
              "      <td>316697</td>\n",
              "      <td>256662</td>\n",
              "      <td>60036</td>\n",
              "      <td>144918</td>\n",
              "      <td>171780</td>\n",
              "      <td>2007</td>\n",
              "    </tr>\n",
              "    <tr>\n",
              "      <th>30</th>\n",
              "      <td>ENEMDU</td>\n",
              "      <td>06/01/2008</td>\n",
              "      <td>Desempleo</td>\n",
              "      <td>344143</td>\n",
              "      <td>282489</td>\n",
              "      <td>61654</td>\n",
              "      <td>151283</td>\n",
              "      <td>192860</td>\n",
              "      <td>2008</td>\n",
              "    </tr>\n",
              "    <tr>\n",
              "      <th>48</th>\n",
              "      <td>ENEMDU</td>\n",
              "      <td>12/01/2008</td>\n",
              "      <td>Desempleo</td>\n",
              "      <td>380026</td>\n",
              "      <td>317011</td>\n",
              "      <td>63015</td>\n",
              "      <td>165296</td>\n",
              "      <td>214730</td>\n",
              "      <td>2008</td>\n",
              "    </tr>\n",
              "    <tr>\n",
              "      <th>66</th>\n",
              "      <td>ENEMDU</td>\n",
              "      <td>12/01/2009</td>\n",
              "      <td>Desempleo</td>\n",
              "      <td>423802</td>\n",
              "      <td>347068</td>\n",
              "      <td>76734</td>\n",
              "      <td>201625</td>\n",
              "      <td>222177</td>\n",
              "      <td>2009</td>\n",
              "    </tr>\n",
              "    <tr>\n",
              "      <th>84</th>\n",
              "      <td>ENEMDU</td>\n",
              "      <td>06/01/2010</td>\n",
              "      <td>Desempleo</td>\n",
              "      <td>408318</td>\n",
              "      <td>338652</td>\n",
              "      <td>69666</td>\n",
              "      <td>194691</td>\n",
              "      <td>213628</td>\n",
              "      <td>2010</td>\n",
              "    </tr>\n",
              "  </tbody>\n",
              "</table>\n",
              "</div>"
            ],
            "text/plain": [
              "   Encuesta     Periodo Unnamed: 2   Total  Urbana  Rural  Hombre   Mujer Anios\n",
              "12   ENEMDU  12/01/2007  Desempleo  316697  256662  60036  144918  171780  2007\n",
              "30   ENEMDU  06/01/2008  Desempleo  344143  282489  61654  151283  192860  2008\n",
              "48   ENEMDU  12/01/2008  Desempleo  380026  317011  63015  165296  214730  2008\n",
              "66   ENEMDU  12/01/2009  Desempleo  423802  347068  76734  201625  222177  2009\n",
              "84   ENEMDU  06/01/2010  Desempleo  408318  338652  69666  194691  213628  2010"
            ]
          },
          "metadata": {},
          "execution_count": 6
        }
      ]
    },
    {
      "cell_type": "markdown",
      "metadata": {
        "id": "ax8DlqNoD-Kb"
      },
      "source": [
        "\n",
        "*   **Aqui podemos observar como se guardaron los años en la columna creada**\n",
        "\n"
      ]
    },
    {
      "cell_type": "code",
      "metadata": {
        "colab": {
          "base_uri": "https://localhost:8080/"
        },
        "id": "VZbSgw5zJYuN",
        "outputId": "f53e9bcc-d0be-4811-935f-4496065b789e"
      },
      "source": [
        "anios_empleo=empleo.iloc[:,-1]\n",
        "anios_empleo=anios_empleo.unique()\n",
        "print(anios_empleo)"
      ],
      "execution_count": 7,
      "outputs": [
        {
          "output_type": "stream",
          "name": "stdout",
          "text": [
            "['2007' '2008' '2009' '2010' '2011' '2012' '2013' '2014' '2015' '2016'\n",
            " '2017' '2018' '2019' '2020' '2021']\n"
          ]
        }
      ]
    },
    {
      "cell_type": "markdown",
      "metadata": {
        "id": "ZGLHIkqUEOhz"
      },
      "source": [
        "*      **Creamos una función que permite realizar una búsqueda en los registros del dataset**"
      ]
    },
    {
      "cell_type": "code",
      "metadata": {
        "id": "qiXCRgdEUO5i",
        "colab": {
          "base_uri": "https://localhost:8080/"
        },
        "outputId": "865d3387-0894-4d0e-b529-3bf2ad5e6322"
      },
      "source": [
        "#Funcion de Busqueda\n",
        "def search_value_desemp(param,key,val):\n",
        "  if param==key:\n",
        "    return val   \n",
        "\n",
        "#Creacion de diccionarios y busqueda de datos\n",
        "list_vals_emp_anio=[]\n",
        "list_vals_desemp_anio=[]\n",
        "dic_empleo={}\n",
        "dic_desempleo={}\n",
        "\n",
        "#Procedemos ha realizar la búsqueda en función de todos los años, \n",
        "#tanto en el dataframe de empleo y del de desempleo de paso procedemos \n",
        "#a realizar un promedio en base a los datos porque existen cifras \n",
        "#por cada mes reduciendo la información a intervalos por año\n",
        "for i in anios_empleo:\n",
        "  df_Emp=empleo.apply(lambda x:search_value_desemp(i,x[8],x[3]),axis=1)\n",
        "  df_Emp=df_Emp.dropna()\n",
        "  dic_empleo.setdefault(i,df_Emp.mean())\n",
        "\n",
        "for i in anios_empleo:\n",
        "  df_Emp=desempleo.apply(lambda x:search_value_desemp(i,x[8],x[3]),axis=1)\n",
        "  df_Emp=df_Emp.dropna()\n",
        "  dic_desempleo.setdefault(i,df_Emp.mean())\n",
        "\n",
        "print('**EMPLEO**:','[',dic_empleo,']')  \n",
        "print('**DESEMPELO**:','[',dic_desempleo,']')   "
      ],
      "execution_count": 8,
      "outputs": [
        {
          "output_type": "stream",
          "name": "stdout",
          "text": [
            "**EMPLEO**: [ {'2007': 6019332.0, '2008': 6125310.0, '2009': 6125135.0, '2010': 6143685.5, '2011': 6264709.0, '2012': 6506555.5, '2013': 6695018.0, '2014': 6784413.75, '2015': 7151139.25, '2016': 7482333.75, '2017': 7766294.0, '2018': 7778951.0, '2019': 7853174.75, '2020': 7673343.25, '2021': 7917790.1} ]\n",
            "**DESEMPELO**: [ {'2007': 316697.0, '2008': 362084.5, '2009': 423802.0, '2010': 365672.5, '2011': 302996.0, '2012': 279372.5, '2013': 281348.0, '2014': 304555.0, '2015': 324618.0, '2016': 423871.75, '2017': 358466.5, '2018': 330265.75, '2019': 365105.75, '2020': 456457.5, '2021': 431402.7} ]\n"
          ]
        }
      ]
    },
    {
      "cell_type": "markdown",
      "metadata": {
        "id": "3KjsOniCFY9u"
      },
      "source": [
        "\n",
        "* **Creamos un dataset el cual contenga todos los años y sus valores**\n"
      ]
    },
    {
      "cell_type": "code",
      "metadata": {
        "colab": {
          "base_uri": "https://localhost:8080/",
          "height": 206
        },
        "id": "GPJc0I5G1AMt",
        "outputId": "628e2624-7819-4d41-cb55-5f88e35c1246"
      },
      "source": [
        "empleo=pd.DataFrame(dic_empleo.items())\n",
        "empleo.columns=['Años','Empleo']\n",
        "\n",
        "desempleo=pd.DataFrame(dic_desempleo.items())\n",
        "desempleo.columns=['Años','Desempleo']\n",
        "\n",
        "empleo[\"Desempleo\"]=desempleo.iloc[:,-1]\n",
        "empleo.head()"
      ],
      "execution_count": 9,
      "outputs": [
        {
          "output_type": "execute_result",
          "data": {
            "text/html": [
              "<div>\n",
              "<style scoped>\n",
              "    .dataframe tbody tr th:only-of-type {\n",
              "        vertical-align: middle;\n",
              "    }\n",
              "\n",
              "    .dataframe tbody tr th {\n",
              "        vertical-align: top;\n",
              "    }\n",
              "\n",
              "    .dataframe thead th {\n",
              "        text-align: right;\n",
              "    }\n",
              "</style>\n",
              "<table border=\"1\" class=\"dataframe\">\n",
              "  <thead>\n",
              "    <tr style=\"text-align: right;\">\n",
              "      <th></th>\n",
              "      <th>Años</th>\n",
              "      <th>Empleo</th>\n",
              "      <th>Desempleo</th>\n",
              "    </tr>\n",
              "  </thead>\n",
              "  <tbody>\n",
              "    <tr>\n",
              "      <th>0</th>\n",
              "      <td>2007</td>\n",
              "      <td>6019332.0</td>\n",
              "      <td>316697.0</td>\n",
              "    </tr>\n",
              "    <tr>\n",
              "      <th>1</th>\n",
              "      <td>2008</td>\n",
              "      <td>6125310.0</td>\n",
              "      <td>362084.5</td>\n",
              "    </tr>\n",
              "    <tr>\n",
              "      <th>2</th>\n",
              "      <td>2009</td>\n",
              "      <td>6125135.0</td>\n",
              "      <td>423802.0</td>\n",
              "    </tr>\n",
              "    <tr>\n",
              "      <th>3</th>\n",
              "      <td>2010</td>\n",
              "      <td>6143685.5</td>\n",
              "      <td>365672.5</td>\n",
              "    </tr>\n",
              "    <tr>\n",
              "      <th>4</th>\n",
              "      <td>2011</td>\n",
              "      <td>6264709.0</td>\n",
              "      <td>302996.0</td>\n",
              "    </tr>\n",
              "  </tbody>\n",
              "</table>\n",
              "</div>"
            ],
            "text/plain": [
              "   Años     Empleo  Desempleo\n",
              "0  2007  6019332.0   316697.0\n",
              "1  2008  6125310.0   362084.5\n",
              "2  2009  6125135.0   423802.0\n",
              "3  2010  6143685.5   365672.5\n",
              "4  2011  6264709.0   302996.0"
            ]
          },
          "metadata": {},
          "execution_count": 9
        }
      ]
    },
    {
      "cell_type": "code",
      "metadata": {
        "colab": {
          "base_uri": "https://localhost:8080/"
        },
        "id": "A4BN38RaG5qx",
        "outputId": "43b2b867-fb29-4715-eadb-9ab671a94a23"
      },
      "source": [
        "from google.colab import drive\n",
        "drive.mount('/content/drive')"
      ],
      "execution_count": 10,
      "outputs": [
        {
          "output_type": "stream",
          "name": "stdout",
          "text": [
            "Drive already mounted at /content/drive; to attempt to forcibly remount, call drive.mount(\"/content/drive\", force_remount=True).\n"
          ]
        }
      ]
    },
    {
      "cell_type": "markdown",
      "metadata": {
        "id": "aOIXK2iiF2zW"
      },
      "source": [
        "* **Grafico de comparacion de Empelos y Desempleos**\n",
        "\n"
      ]
    },
    {
      "cell_type": "code",
      "metadata": {
        "colab": {
          "base_uri": "https://localhost:8080/",
          "height": 624
        },
        "id": "_0DnLWoQ72Gl",
        "outputId": "1fe4d2df-8375-4aed-d60f-fb9f2fb10e6b"
      },
      "source": [
        "plt.figure(figsize=(15,10))\n",
        "plt.grid(True)\n",
        "\n",
        "plt.plot(empleo['Años'], empleo['Empleo'], label='Empleo')\n",
        "plt.plot(desempleo['Años'], desempleo['Desempleo'], label='Desempleo')\n",
        "\n",
        "plt.title('Comparación de la cantidad de personas empleadas y desempleadas')\n",
        "try:\n",
        "    plt.ticklabel_format(style='plain')\n",
        "except AttributeError:\n",
        "    print('')\n",
        "plt.legend(loc='upper left')\n",
        "plt.show()"
      ],
      "execution_count": 11,
      "outputs": [
        {
          "output_type": "stream",
          "name": "stdout",
          "text": [
            "\n"
          ]
        },
        {
          "output_type": "display_data",
          "data": {
            "image/png": "[encoded data removed]",
            "text/plain": [
              "<Figure size 1080x720 with 1 Axes>"
            ]
          },
          "metadata": {
            "needs_background": "light"
          }
        }
      ]
    },
    {
      "cell_type": "markdown",
      "metadata": {
        "id": "dPuFhoQ1aLOj"
      },
      "source": [
        "* **Gráfico de pie por personas basadas en la secrización de empleo**"
      ]
    },
    {
      "cell_type": "code",
      "metadata": {
        "id": "fPK4maLS-5dg"
      },
      "source": [
        "sec= pd.read_csv(\"drive/MyDrive/Prueba/Sectoriza.csv\",skiprows=0, low_memory=False,encoding= 'latin1')\n",
        "sec=sec.iloc[0:5]\n",
        "sec=sec.transpose()\n",
        "sec.columns=sec.iloc[1]\n",
        "sec=sec.iloc[2:]\n",
        "sec.head()\n",
        "sec.to_csv('drive/MyDrive/Prueba/datos.csv',encoding= 'latin1')"
      ],
      "execution_count": 12,
      "outputs": []
    },
    {
      "cell_type": "code",
      "metadata": {
        "colab": {
          "base_uri": "https://localhost:8080/",
          "height": 677
        },
        "id": "C4f4QhieQV8A",
        "outputId": "9f10cde5-8152-421b-9264-e6eb1ee676f2"
      },
      "source": [
        "sec= pd.read_csv(\"drive/MyDrive/Prueba/datos.csv\",skiprows=0, low_memory=False,encoding= 'latin1')\n",
        "sec.head(20)"
      ],
      "execution_count": 13,
      "outputs": [
        {
          "output_type": "execute_result",
          "data": {
            "text/html": [
              "<div>\n",
              "<style scoped>\n",
              "    .dataframe tbody tr th:only-of-type {\n",
              "        vertical-align: middle;\n",
              "    }\n",
              "\n",
              "    .dataframe tbody tr th {\n",
              "        vertical-align: top;\n",
              "    }\n",
              "\n",
              "    .dataframe thead th {\n",
              "        text-align: right;\n",
              "    }\n",
              "</style>\n",
              "<table border=\"1\" class=\"dataframe\">\n",
              "  <thead>\n",
              "    <tr style=\"text-align: right;\">\n",
              "      <th></th>\n",
              "      <th>Unnamed: 0</th>\n",
              "      <th>Unnamed: 1</th>\n",
              "      <th>Sector Formal</th>\n",
              "      <th>Sector Informal</th>\n",
              "      <th>Empleo Doméstico</th>\n",
              "      <th>No Clasificados por Sector</th>\n",
              "    </tr>\n",
              "  </thead>\n",
              "  <tbody>\n",
              "    <tr>\n",
              "      <th>0</th>\n",
              "      <td>Unnamed: 2</td>\n",
              "      <td>06/01/2007</td>\n",
              "      <td>-</td>\n",
              "      <td>-</td>\n",
              "      <td>-</td>\n",
              "      <td>-</td>\n",
              "    </tr>\n",
              "    <tr>\n",
              "      <th>1</th>\n",
              "      <td>Unnamed: 3</td>\n",
              "      <td>09/01/2007</td>\n",
              "      <td>-</td>\n",
              "      <td>-</td>\n",
              "      <td>-</td>\n",
              "      <td>-</td>\n",
              "    </tr>\n",
              "    <tr>\n",
              "      <th>2</th>\n",
              "      <td>Unnamed: 4</td>\n",
              "      <td>12/01/2007</td>\n",
              "      <td>41%</td>\n",
              "      <td>45.1%</td>\n",
              "      <td>3.3%</td>\n",
              "      <td>10.6%</td>\n",
              "    </tr>\n",
              "    <tr>\n",
              "      <th>3</th>\n",
              "      <td>Unnamed: 5</td>\n",
              "      <td>03/01/2008</td>\n",
              "      <td>-</td>\n",
              "      <td>-</td>\n",
              "      <td>-</td>\n",
              "      <td>-</td>\n",
              "    </tr>\n",
              "    <tr>\n",
              "      <th>4</th>\n",
              "      <td>Unnamed: 6</td>\n",
              "      <td>06/01/2008</td>\n",
              "      <td>42.5%</td>\n",
              "      <td>45.4%</td>\n",
              "      <td>3.3%</td>\n",
              "      <td>8.8%</td>\n",
              "    </tr>\n",
              "    <tr>\n",
              "      <th>5</th>\n",
              "      <td>Unnamed: 7</td>\n",
              "      <td>09/01/2008</td>\n",
              "      <td>-</td>\n",
              "      <td>-</td>\n",
              "      <td>-</td>\n",
              "      <td>-</td>\n",
              "    </tr>\n",
              "    <tr>\n",
              "      <th>6</th>\n",
              "      <td>Unnamed: 8</td>\n",
              "      <td>12/01/2008</td>\n",
              "      <td>43.9%</td>\n",
              "      <td>43.5%</td>\n",
              "      <td>3.5%</td>\n",
              "      <td>9.2%</td>\n",
              "    </tr>\n",
              "    <tr>\n",
              "      <th>7</th>\n",
              "      <td>Unnamed: 9</td>\n",
              "      <td>03/01/2009</td>\n",
              "      <td>-</td>\n",
              "      <td>-</td>\n",
              "      <td>-</td>\n",
              "      <td>-</td>\n",
              "    </tr>\n",
              "    <tr>\n",
              "      <th>8</th>\n",
              "      <td>Unnamed: 10</td>\n",
              "      <td>06/01/2009</td>\n",
              "      <td>-</td>\n",
              "      <td>-</td>\n",
              "      <td>-</td>\n",
              "      <td>-</td>\n",
              "    </tr>\n",
              "    <tr>\n",
              "      <th>9</th>\n",
              "      <td>Unnamed: 11</td>\n",
              "      <td>09/01/2009</td>\n",
              "      <td>-</td>\n",
              "      <td>-</td>\n",
              "      <td>-</td>\n",
              "      <td>-</td>\n",
              "    </tr>\n",
              "    <tr>\n",
              "      <th>10</th>\n",
              "      <td>Unnamed: 12</td>\n",
              "      <td>12/01/2009</td>\n",
              "      <td>43.7%</td>\n",
              "      <td>43.8%</td>\n",
              "      <td>3.4%</td>\n",
              "      <td>9.1%</td>\n",
              "    </tr>\n",
              "    <tr>\n",
              "      <th>11</th>\n",
              "      <td>Unnamed: 13</td>\n",
              "      <td>03/01/2010</td>\n",
              "      <td>-</td>\n",
              "      <td>-</td>\n",
              "      <td>-</td>\n",
              "      <td>-</td>\n",
              "    </tr>\n",
              "    <tr>\n",
              "      <th>12</th>\n",
              "      <td>Unnamed: 14</td>\n",
              "      <td>06/01/2010</td>\n",
              "      <td>44.9%</td>\n",
              "      <td>42.3%</td>\n",
              "      <td>3.4%</td>\n",
              "      <td>9.3%</td>\n",
              "    </tr>\n",
              "    <tr>\n",
              "      <th>13</th>\n",
              "      <td>Unnamed: 15</td>\n",
              "      <td>09/01/2010</td>\n",
              "      <td>-</td>\n",
              "      <td>-</td>\n",
              "      <td>-</td>\n",
              "      <td>-</td>\n",
              "    </tr>\n",
              "    <tr>\n",
              "      <th>14</th>\n",
              "      <td>Unnamed: 16</td>\n",
              "      <td>12/01/2010</td>\n",
              "      <td>47.2%</td>\n",
              "      <td>42.8%</td>\n",
              "      <td>2.9%</td>\n",
              "      <td>7.1%</td>\n",
              "    </tr>\n",
              "    <tr>\n",
              "      <th>15</th>\n",
              "      <td>Unnamed: 17</td>\n",
              "      <td>03/01/2011</td>\n",
              "      <td>-</td>\n",
              "      <td>-</td>\n",
              "      <td>-</td>\n",
              "      <td>-</td>\n",
              "    </tr>\n",
              "    <tr>\n",
              "      <th>16</th>\n",
              "      <td>Unnamed: 18</td>\n",
              "      <td>06/01/2011</td>\n",
              "      <td>46.3%</td>\n",
              "      <td>42.2%</td>\n",
              "      <td>3%</td>\n",
              "      <td>8.4%</td>\n",
              "    </tr>\n",
              "    <tr>\n",
              "      <th>17</th>\n",
              "      <td>Unnamed: 19</td>\n",
              "      <td>09/01/2011</td>\n",
              "      <td>-</td>\n",
              "      <td>-</td>\n",
              "      <td>-</td>\n",
              "      <td>-</td>\n",
              "    </tr>\n",
              "    <tr>\n",
              "      <th>18</th>\n",
              "      <td>Unnamed: 20</td>\n",
              "      <td>12/01/2011</td>\n",
              "      <td>46.5%</td>\n",
              "      <td>42.7%</td>\n",
              "      <td>2.3%</td>\n",
              "      <td>8.4%</td>\n",
              "    </tr>\n",
              "    <tr>\n",
              "      <th>19</th>\n",
              "      <td>Unnamed: 21</td>\n",
              "      <td>03/01/2012</td>\n",
              "      <td>-</td>\n",
              "      <td>-</td>\n",
              "      <td>-</td>\n",
              "      <td>-</td>\n",
              "    </tr>\n",
              "  </tbody>\n",
              "</table>\n",
              "</div>"
            ],
            "text/plain": [
              "     Unnamed: 0  Unnamed: 1  ... Empleo Doméstico No Clasificados por Sector\n",
              "0    Unnamed: 2  06/01/2007  ...                -                          -\n",
              "1    Unnamed: 3  09/01/2007  ...                -                          -\n",
              "2    Unnamed: 4  12/01/2007  ...             3.3%                      10.6%\n",
              "3    Unnamed: 5  03/01/2008  ...                -                          -\n",
              "4    Unnamed: 6  06/01/2008  ...             3.3%                       8.8%\n",
              "5    Unnamed: 7  09/01/2008  ...                -                          -\n",
              "6    Unnamed: 8  12/01/2008  ...             3.5%                       9.2%\n",
              "7    Unnamed: 9  03/01/2009  ...                -                          -\n",
              "8   Unnamed: 10  06/01/2009  ...                -                          -\n",
              "9   Unnamed: 11  09/01/2009  ...                -                          -\n",
              "10  Unnamed: 12  12/01/2009  ...             3.4%                       9.1%\n",
              "11  Unnamed: 13  03/01/2010  ...                -                          -\n",
              "12  Unnamed: 14  06/01/2010  ...             3.4%                       9.3%\n",
              "13  Unnamed: 15  09/01/2010  ...                -                          -\n",
              "14  Unnamed: 16  12/01/2010  ...             2.9%                       7.1%\n",
              "15  Unnamed: 17  03/01/2011  ...                -                          -\n",
              "16  Unnamed: 18  06/01/2011  ...               3%                       8.4%\n",
              "17  Unnamed: 19  09/01/2011  ...                -                          -\n",
              "18  Unnamed: 20  12/01/2011  ...             2.3%                       8.4%\n",
              "19  Unnamed: 21  03/01/2012  ...                -                          -\n",
              "\n",
              "[20 rows x 6 columns]"
            ]
          },
          "metadata": {},
          "execution_count": 13
        }
      ]
    },
    {
      "cell_type": "markdown",
      "metadata": {
        "id": "E6OUmTW2bGVD"
      },
      "source": [
        "*   **Para manejar de mejor manera el dataframe extraemos el año y lo adicionamos en una nueva columna**\n",
        "\n",
        "\n"
      ]
    },
    {
      "cell_type": "code",
      "metadata": {
        "colab": {
          "base_uri": "https://localhost:8080/",
          "height": 206
        },
        "id": "YNWXAtP0Vbe7",
        "outputId": "ba1fa11a-03d3-47bc-d7c0-363476dccb03"
      },
      "source": [
        "sec[\"Anios\"]=sec.apply(lambda x: sacAnio(x[1]), axis=1)\n",
        "sec.head()"
      ],
      "execution_count": 14,
      "outputs": [
        {
          "output_type": "execute_result",
          "data": {
            "text/html": [
              "<div>\n",
              "<style scoped>\n",
              "    .dataframe tbody tr th:only-of-type {\n",
              "        vertical-align: middle;\n",
              "    }\n",
              "\n",
              "    .dataframe tbody tr th {\n",
              "        vertical-align: top;\n",
              "    }\n",
              "\n",
              "    .dataframe thead th {\n",
              "        text-align: right;\n",
              "    }\n",
              "</style>\n",
              "<table border=\"1\" class=\"dataframe\">\n",
              "  <thead>\n",
              "    <tr style=\"text-align: right;\">\n",
              "      <th></th>\n",
              "      <th>Unnamed: 0</th>\n",
              "      <th>Unnamed: 1</th>\n",
              "      <th>Sector Formal</th>\n",
              "      <th>Sector Informal</th>\n",
              "      <th>Empleo Doméstico</th>\n",
              "      <th>No Clasificados por Sector</th>\n",
              "      <th>Anios</th>\n",
              "    </tr>\n",
              "  </thead>\n",
              "  <tbody>\n",
              "    <tr>\n",
              "      <th>0</th>\n",
              "      <td>Unnamed: 2</td>\n",
              "      <td>06/01/2007</td>\n",
              "      <td>-</td>\n",
              "      <td>-</td>\n",
              "      <td>-</td>\n",
              "      <td>-</td>\n",
              "      <td>2007</td>\n",
              "    </tr>\n",
              "    <tr>\n",
              "      <th>1</th>\n",
              "      <td>Unnamed: 3</td>\n",
              "      <td>09/01/2007</td>\n",
              "      <td>-</td>\n",
              "      <td>-</td>\n",
              "      <td>-</td>\n",
              "      <td>-</td>\n",
              "      <td>2007</td>\n",
              "    </tr>\n",
              "    <tr>\n",
              "      <th>2</th>\n",
              "      <td>Unnamed: 4</td>\n",
              "      <td>12/01/2007</td>\n",
              "      <td>41%</td>\n",
              "      <td>45.1%</td>\n",
              "      <td>3.3%</td>\n",
              "      <td>10.6%</td>\n",
              "      <td>2007</td>\n",
              "    </tr>\n",
              "    <tr>\n",
              "      <th>3</th>\n",
              "      <td>Unnamed: 5</td>\n",
              "      <td>03/01/2008</td>\n",
              "      <td>-</td>\n",
              "      <td>-</td>\n",
              "      <td>-</td>\n",
              "      <td>-</td>\n",
              "      <td>2008</td>\n",
              "    </tr>\n",
              "    <tr>\n",
              "      <th>4</th>\n",
              "      <td>Unnamed: 6</td>\n",
              "      <td>06/01/2008</td>\n",
              "      <td>42.5%</td>\n",
              "      <td>45.4%</td>\n",
              "      <td>3.3%</td>\n",
              "      <td>8.8%</td>\n",
              "      <td>2008</td>\n",
              "    </tr>\n",
              "  </tbody>\n",
              "</table>\n",
              "</div>"
            ],
            "text/plain": [
              "   Unnamed: 0  Unnamed: 1  ... No Clasificados por Sector Anios\n",
              "0  Unnamed: 2  06/01/2007  ...                          -  2007\n",
              "1  Unnamed: 3  09/01/2007  ...                          -  2007\n",
              "2  Unnamed: 4  12/01/2007  ...                      10.6%  2007\n",
              "3  Unnamed: 5  03/01/2008  ...                          -  2008\n",
              "4  Unnamed: 6  06/01/2008  ...                       8.8%  2008\n",
              "\n",
              "[5 rows x 7 columns]"
            ]
          },
          "metadata": {},
          "execution_count": 14
        }
      ]
    },
    {
      "cell_type": "markdown",
      "metadata": {
        "id": "xOEoYZegbWYb"
      },
      "source": [
        "*      **Creamos una función que permite realizar una búsqueda en los registros del dataset**"
      ]
    },
    {
      "cell_type": "code",
      "metadata": {
        "id": "UQrvegL3WYoi"
      },
      "source": [
        "def search_value_sec(param,key,secF,secIn,empD,noClass):\n",
        "  if param==key:\n",
        "    return float(secF.strip('%')),float(secIn.strip('%')),float(empD.strip('%')),float(noClass.strip('%')),key  \n",
        "\n",
        "\n"
      ],
      "execution_count": 15,
      "outputs": []
    },
    {
      "cell_type": "code",
      "metadata": {
        "id": "loXIS9ygfHT-"
      },
      "source": [
        "def sectorizacion(rang1,rang2):\n",
        "  dfF=pd.DataFrame()\n",
        "  for i in range(rang1,rang2):\n",
        "    dfT=sec.apply(lambda x: search_value_sec(str(i),x[6],x[2],x[3],x[4],x[5]),axis=1)\n",
        "    dfT=dfT.dropna()\n",
        "    dfT=dfT.to_frame()\n",
        "    dfT.columns=['one']\n",
        "    dfT=pd.DataFrame(dfT['one'].values.tolist())\n",
        "    dfT.columns=['Sector Formal'\t,'Sector Informal'\t,'Empleo Doméstico',\t'No Clasificados por Sector',\t'Anios']\n",
        "    dfTMean=dfT.describe().iloc[1:2]\n",
        "    dfTMean['Anios']=i\n",
        "    dfF=pd.concat([dfF,dfTMean],axis=0)\n",
        "  \n",
        "  dfF=dfF.transpose()  \n",
        "  dfF.columns=dfF.iloc[-1]\n",
        "  dfF=dfF.iloc[:-1]\n",
        "  dfF.to_csv('drive/MyDrive/Prueba/PIE.csv',encoding= 'latin1')\n",
        "\n",
        "  return dfF\n"
      ],
      "execution_count": 26,
      "outputs": []
    },
    {
      "cell_type": "code",
      "metadata": {
        "id": "QVIsAMmpY-4Y"
      },
      "source": [
        "dfF= pd.read_csv(\"drive/MyDrive/Prueba/PIE.csv\",skiprows=0, low_memory=False,encoding= 'latin1')\n",
        "dfF.set_index('Unnamed: 0',inplace = True)"
      ],
      "execution_count": 27,
      "outputs": []
    },
    {
      "cell_type": "code",
      "metadata": {
        "id": "xjIip6UKQo4i"
      },
      "source": [
        "#funcion para graficar\n",
        "def graficar(dataF,rang1,rang2):\n",
        "  for i in range(rang1,rang2):\n",
        "    my_cols=['lightgreen','lightblue','silver','red']\n",
        "    dfF.plot.pie(subplots=True,y=str(i)+\".0\", figsize=(9, 4),startangle=45, fontsize=16, explode=(0.03,0.03,0.03,0.03),colors=my_cols, autopct='%1.1f%%',frame=True)\n",
        " \n",
        "    \n"
      ],
      "execution_count": 56,
      "outputs": []
    },
    {
      "cell_type": "markdown",
      "metadata": {
        "id": "mwMlQRpkm_gz"
      },
      "source": [
        "**Grafico PIE**"
      ]
    },
    {
      "cell_type": "code",
      "metadata": {
        "colab": {
          "base_uri": "https://localhost:8080/",
          "height": 1000
        },
        "id": "bx_WML-NXDFC",
        "outputId": "f91f1a2e-0df1-4012-c820-8ed7e05bd25f"
      },
      "source": [
        "dataSecto=sectorizacion(2018,2022)\n",
        "graficar(dataSecto,2018,2022)"
      ],
      "execution_count": 57,
      "outputs": [
        {
          "output_type": "display_data",
          "data": {
            "image/png": "[encoded data removed]",
            "text/plain": [
              "<Figure size 648x288 with 1 Axes>"
            ]
          },
          "metadata": {
            "needs_background": "light"
          }
        },
        {
          "output_type": "display_data",
          "data": {
            "image/png": "[encoded data removed]",
            "text/plain": [
              "<Figure size 648x288 with 1 Axes>"
            ]
          },
          "metadata": {
            "needs_background": "light"
          }
        },
        {
          "output_type": "display_data",
          "data": {
            "image/png": "[encoded data removed]",
            "text/plain": [
              "<Figure size 648x288 with 1 Axes>"
            ]
          },
          "metadata": {
            "needs_background": "light"
          }
        },
        {
          "output_type": "display_data",
          "data": {
            "image/png": "[encoded data removed]",
            "text/plain": [
              "<Figure size 648x288 with 1 Axes>"
            ]
          },
          "metadata": {
            "needs_background": "light"
          }
        }
      ]
    },
    {
      "cell_type": "markdown",
      "metadata": {
        "id": "qOBmFAwBKl1x"
      },
      "source": [
        "##Generar histogramas subempleo, empleo pleno y empleo no pleno por año\n",
        "Procedemos a extraer la información necesaria para resolver el enunciado, dicha información está disponible en el dataset de población "
      ]
    },
    {
      "cell_type": "code",
      "metadata": {
        "id": "pcEdSvXuKpxD"
      },
      "source": [
        "subempleo=poblaciones.loc[ (poblaciones['Unnamed: 2']) == 'Subempleo']\n",
        "pleno=poblaciones.loc[ (poblaciones['Unnamed: 2']) == 'Empleo Adecuado/Pleno']\n",
        "no_pleno=poblaciones.loc[ (poblaciones['Unnamed: 2']) == 'Otro Empleo no pleno']"
      ],
      "execution_count": 30,
      "outputs": []
    },
    {
      "cell_type": "code",
      "metadata": {
        "id": "aJeiZCHoK288",
        "colab": {
          "base_uri": "https://localhost:8080/"
        },
        "outputId": "393404f3-3f29-41ae-f192-97efcd06f2f3"
      },
      "source": [
        "subempleo[\"Anios\"]=subempleo.apply(lambda x: sacAnio(x[1]), axis=1)\n",
        "pleno[\"Anios\"]=pleno.apply(lambda x: sacAnio(x[1]), axis=1)\n",
        "no_pleno[\"Anios\"]=no_pleno.apply(lambda x: sacAnio(x[1]), axis=1)"
      ],
      "execution_count": 31,
      "outputs": [
        {
          "output_type": "stream",
          "name": "stderr",
          "text": [
            "/usr/local/lib/python3.7/dist-packages/ipykernel_launcher.py:1: SettingWithCopyWarning:\n",
            "\n",
            "\n",
            "A value is trying to be set on a copy of a slice from a DataFrame.\n",
            "Try using .loc[row_indexer,col_indexer] = value instead\n",
            "\n",
            "See the caveats in the documentation: https://pandas.pydata.org/pandas-docs/stable/user_guide/indexing.html#returning-a-view-versus-a-copy\n",
            "\n",
            "/usr/local/lib/python3.7/dist-packages/ipykernel_launcher.py:2: SettingWithCopyWarning:\n",
            "\n",
            "\n",
            "A value is trying to be set on a copy of a slice from a DataFrame.\n",
            "Try using .loc[row_indexer,col_indexer] = value instead\n",
            "\n",
            "See the caveats in the documentation: https://pandas.pydata.org/pandas-docs/stable/user_guide/indexing.html#returning-a-view-versus-a-copy\n",
            "\n",
            "/usr/local/lib/python3.7/dist-packages/ipykernel_launcher.py:3: SettingWithCopyWarning:\n",
            "\n",
            "\n",
            "A value is trying to be set on a copy of a slice from a DataFrame.\n",
            "Try using .loc[row_indexer,col_indexer] = value instead\n",
            "\n",
            "See the caveats in the documentation: https://pandas.pydata.org/pandas-docs/stable/user_guide/indexing.html#returning-a-view-versus-a-copy\n",
            "\n"
          ]
        }
      ]
    },
    {
      "cell_type": "markdown",
      "metadata": {
        "id": "WvFy5qjCdGoU"
      },
      "source": [
        "* **Procedemos a concatenar toda la información en un solo dataframe**"
      ]
    },
    {
      "cell_type": "code",
      "metadata": {
        "colab": {
          "base_uri": "https://localhost:8080/",
          "height": 206
        },
        "id": "rjtjoTvfK5Bc",
        "outputId": "3b9132d6-1237-4835-bc06-3162fb94c11b"
      },
      "source": [
        "data_Final=pd.concat([subempleo,pleno,no_pleno],axis=0)\n",
        "data_Final=data_Final.iloc[:,[2,3,8]]\n",
        "data_Final.columns=['Tipo','Total','Anios']\n",
        "data_Final.head()"
      ],
      "execution_count": 33,
      "outputs": [
        {
          "output_type": "execute_result",
          "data": {
            "text/html": [
              "<div>\n",
              "<style scoped>\n",
              "    .dataframe tbody tr th:only-of-type {\n",
              "        vertical-align: middle;\n",
              "    }\n",
              "\n",
              "    .dataframe tbody tr th {\n",
              "        vertical-align: top;\n",
              "    }\n",
              "\n",
              "    .dataframe thead th {\n",
              "        text-align: right;\n",
              "    }\n",
              "</style>\n",
              "<table border=\"1\" class=\"dataframe\">\n",
              "  <thead>\n",
              "    <tr style=\"text-align: right;\">\n",
              "      <th></th>\n",
              "      <th>Tipo</th>\n",
              "      <th>Total</th>\n",
              "      <th>Anios</th>\n",
              "    </tr>\n",
              "  </thead>\n",
              "  <tbody>\n",
              "    <tr>\n",
              "      <th>6</th>\n",
              "      <td>Subempleo</td>\n",
              "      <td>1155872</td>\n",
              "      <td>2007</td>\n",
              "    </tr>\n",
              "    <tr>\n",
              "      <th>24</th>\n",
              "      <td>Subempleo</td>\n",
              "      <td>1130699</td>\n",
              "      <td>2008</td>\n",
              "    </tr>\n",
              "    <tr>\n",
              "      <th>42</th>\n",
              "      <td>Subempleo</td>\n",
              "      <td>957978</td>\n",
              "      <td>2008</td>\n",
              "    </tr>\n",
              "    <tr>\n",
              "      <th>60</th>\n",
              "      <td>Subempleo</td>\n",
              "      <td>1071615</td>\n",
              "      <td>2009</td>\n",
              "    </tr>\n",
              "    <tr>\n",
              "      <th>78</th>\n",
              "      <td>Subempleo</td>\n",
              "      <td>1041266</td>\n",
              "      <td>2010</td>\n",
              "    </tr>\n",
              "  </tbody>\n",
              "</table>\n",
              "</div>"
            ],
            "text/plain": [
              "         Tipo    Total Anios\n",
              "6   Subempleo  1155872  2007\n",
              "24  Subempleo  1130699  2008\n",
              "42  Subempleo   957978  2008\n",
              "60  Subempleo  1071615  2009\n",
              "78  Subempleo  1041266  2010"
            ]
          },
          "metadata": {},
          "execution_count": 33
        }
      ]
    },
    {
      "cell_type": "markdown",
      "metadata": {
        "id": "kYN4zFKSd4Gj"
      },
      "source": [
        "\n",
        "* **Función de todos los años y un palabra clave que  en este caso sería Subempleo, empleo pleno y no pleno**\n"
      ]
    },
    {
      "cell_type": "code",
      "metadata": {
        "id": "3DOabpTIK-_P"
      },
      "source": [
        ""
      ],
      "execution_count": 34,
      "outputs": []
    },
    {
      "cell_type": "code",
      "metadata": {
        "id": "xHaMxgg-LB_X"
      },
      "source": [
        "def search_value(param_anio,param_tipo,key_anio,key_tipo,total):\n",
        "  if param_anio==key_anio and param_tipo== key_tipo:\n",
        "    return param_tipo,total,param_anio\n",
        "#Esta función general nos permite obtener el data frame que buscamos en función del rango de años y una palabra clave, nos debe retornar la información requerida\n",
        "def estadoDeEmpleo(rang1,rang2,tipo):\n",
        "    dfF=pd.DataFrame(columns=['Tipo','Total','Anios'])\n",
        "    for i in range(rang1,rang2):\n",
        "        df_Emp=data_Final.apply(lambda x: search_value(str(i),tipo,x[2],x[0],x[1]),axis=1)\n",
        "        df_Emp=df_Emp.dropna()\n",
        "        df_Emp=df_Emp.to_frame()\n",
        "        df_Emp.columns=['one']\n",
        "        df_Emp=pd.DataFrame(df_Emp['one'].values.tolist())\n",
        "        df_Emp.columns=['Tipo','Total','Anios']\n",
        "        dfF=pd.concat([dfF,df_Emp],axis=0)\n",
        "\n",
        "\n",
        "    dfF[['Total']]=dfF[['Total']].astype(int)\n",
        "\n",
        "    return dfF.groupby(['Anios'])['Total'].agg([np.average]) "
      ],
      "execution_count": 50,
      "outputs": []
    },
    {
      "cell_type": "code",
      "metadata": {
        "id": "Z9zJcT5prlNM"
      },
      "source": [
        "def graficarHisto(data):\n",
        "  my_cols=['lightgreen','lightblue','red']\n",
        "  data.plot(kind=\"barh\", figsize=(16,10), title=\"Histograma\", layout=tuple, color=my_cols)"
      ],
      "execution_count": 51,
      "outputs": []
    },
    {
      "cell_type": "code",
      "metadata": {
        "id": "0L7kXGukLIIX",
        "colab": {
          "base_uri": "https://localhost:8080/",
          "height": 842
        },
        "outputId": "6527ffc5-f482-4d39-d612-fa94dd8167ee"
      },
      "source": [
        "df_sub=estadoDeEmpleo(2014,2022,\"Subempleo\")\n",
        "df_pleno=estadoDeEmpleo(2014,2022,\"Empleo Adecuado/Pleno\")\n",
        "df_no_pleno=estadoDeEmpleo(2014,2022,\"Otro Empleo no pleno\")\n",
        "\n",
        "df_histograma=df_sub\n",
        "df_histograma['pleno']=df_pleno.iloc[:,-1]\n",
        "df_histograma['no_pleno']=df_no_pleno.iloc[:,-1]\n",
        "df_histograma.rename(columns={'average':'subempleo'},inplace=True)\n",
        "graficarHisto(df_histograma)\n",
        "df_histograma.head()"
      ],
      "execution_count": 52,
      "outputs": [
        {
          "output_type": "execute_result",
          "data": {
            "text/html": [
              "<div>\n",
              "<style scoped>\n",
              "    .dataframe tbody tr th:only-of-type {\n",
              "        vertical-align: middle;\n",
              "    }\n",
              "\n",
              "    .dataframe tbody tr th {\n",
              "        vertical-align: top;\n",
              "    }\n",
              "\n",
              "    .dataframe thead th {\n",
              "        text-align: right;\n",
              "    }\n",
              "</style>\n",
              "<table border=\"1\" class=\"dataframe\">\n",
              "  <thead>\n",
              "    <tr style=\"text-align: right;\">\n",
              "      <th></th>\n",
              "      <th>subempleo</th>\n",
              "      <th>pleno</th>\n",
              "      <th>no_pleno</th>\n",
              "    </tr>\n",
              "    <tr>\n",
              "      <th>Anios</th>\n",
              "      <th></th>\n",
              "      <th></th>\n",
              "      <th></th>\n",
              "    </tr>\n",
              "  </thead>\n",
              "  <tbody>\n",
              "    <tr>\n",
              "      <th>2014</th>\n",
              "      <td>890444.50</td>\n",
              "      <td>3391765.25</td>\n",
              "      <td>1983901.75</td>\n",
              "    </tr>\n",
              "    <tr>\n",
              "      <th>2015</th>\n",
              "      <td>1034029.25</td>\n",
              "      <td>3404390.25</td>\n",
              "      <td>2032688.75</td>\n",
              "    </tr>\n",
              "    <tr>\n",
              "      <th>2016</th>\n",
              "      <td>1437778.75</td>\n",
              "      <td>3188784.00</td>\n",
              "      <td>2070205.75</td>\n",
              "    </tr>\n",
              "    <tr>\n",
              "      <th>2017</th>\n",
              "      <td>1669343.50</td>\n",
              "      <td>3275341.00</td>\n",
              "      <td>1986290.00</td>\n",
              "    </tr>\n",
              "    <tr>\n",
              "      <th>2018</th>\n",
              "      <td>1493030.00</td>\n",
              "      <td>3249694.50</td>\n",
              "      <td>2162808.00</td>\n",
              "    </tr>\n",
              "  </tbody>\n",
              "</table>\n",
              "</div>"
            ],
            "text/plain": [
              "        subempleo       pleno    no_pleno\n",
              "Anios                                    \n",
              "2014    890444.50  3391765.25  1983901.75\n",
              "2015   1034029.25  3404390.25  2032688.75\n",
              "2016   1437778.75  3188784.00  2070205.75\n",
              "2017   1669343.50  3275341.00  1986290.00\n",
              "2018   1493030.00  3249694.50  2162808.00"
            ]
          },
          "metadata": {},
          "execution_count": 52
        },
        {
          "output_type": "display_data",
          "data": {
            "image/png": "[encoded data removed]",
            "text/plain": [
              "<Figure size 1152x720 with 1 Axes>"
            ]
          },
          "metadata": {
            "needs_background": "light"
          }
        }
      ]
    },
    {
      "cell_type": "markdown",
      "metadata": {
        "id": "8yHj00Tl6Kpb"
      },
      "source": [
        "### Conclusiones\n",
        "\n",
        "Los modelos con regresiones polinómicas realizan mejores predicciones ya que se ajustan de mejor manera a los datos reales. Sin embargo, al aumentar el grado de la regresión polinómica podemos caer en un overfitting que nos arrojará resultados erróneos"
      ]
    },
    {
      "cell_type": "markdown",
      "metadata": {
        "id": "0fbU5qxC6j6F"
      },
      "source": [
        "### Recomendaciones\n",
        "\n",
        "Se recomienda realizar un estudio futuro para analizar el impacto de los empleos de las personas empleadas y desempeladas totalmente"
      ]
    }
  ]
}